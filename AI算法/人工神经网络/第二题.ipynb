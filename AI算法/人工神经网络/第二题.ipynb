{
 "cells": [
  {
   "cell_type": "code",
   "execution_count": 35,
   "id": "cf83b340",
   "metadata": {},
   "outputs": [],
   "source": [
    "import numpy as np\n",
    "import pandas as pd\n",
    "import matplotlib as mpl\n",
    "import matplotlib.pyplot as plt\n",
    "from sklearn.preprocessing import MinMaxScaler  # 用于数据归一化"
   ]
  },
  {
   "cell_type": "code",
   "execution_count": 50,
   "id": "9a5cd22e",
   "metadata": {},
   "outputs": [],
   "source": [
    "data = pd.read_csv('TrafficData.csv', encoding='utf-8')\n",
    "\n",
    "x = data[['人数', '机动车数', '公路面积']]\n",
    "y = data[['公路客运量', '公路货运量']]"
   ]
  },
  {
   "cell_type": "code",
   "execution_count": 51,
   "id": "78ca94c5",
   "metadata": {},
   "outputs": [
    {
     "data": {
      "text/html": [
       "<div>\n",
       "<style scoped>\n",
       "    .dataframe tbody tr th:only-of-type {\n",
       "        vertical-align: middle;\n",
       "    }\n",
       "\n",
       "    .dataframe tbody tr th {\n",
       "        vertical-align: top;\n",
       "    }\n",
       "\n",
       "    .dataframe thead th {\n",
       "        text-align: right;\n",
       "    }\n",
       "</style>\n",
       "<table border=\"1\" class=\"dataframe\">\n",
       "  <thead>\n",
       "    <tr style=\"text-align: right;\">\n",
       "      <th></th>\n",
       "      <th>年份</th>\n",
       "      <th>人数</th>\n",
       "      <th>机动车数</th>\n",
       "      <th>公路面积</th>\n",
       "      <th>公路客运量</th>\n",
       "      <th>公路货运量</th>\n",
       "    </tr>\n",
       "  </thead>\n",
       "  <tbody>\n",
       "    <tr>\n",
       "      <th>0</th>\n",
       "      <td>1990</td>\n",
       "      <td>20.55</td>\n",
       "      <td>0.60</td>\n",
       "      <td>0.09</td>\n",
       "      <td>5126</td>\n",
       "      <td>1237</td>\n",
       "    </tr>\n",
       "    <tr>\n",
       "      <th>1</th>\n",
       "      <td>1991</td>\n",
       "      <td>22.44</td>\n",
       "      <td>0.75</td>\n",
       "      <td>0.11</td>\n",
       "      <td>6217</td>\n",
       "      <td>1379</td>\n",
       "    </tr>\n",
       "    <tr>\n",
       "      <th>2</th>\n",
       "      <td>1992</td>\n",
       "      <td>25.37</td>\n",
       "      <td>0.85</td>\n",
       "      <td>0.11</td>\n",
       "      <td>7730</td>\n",
       "      <td>1385</td>\n",
       "    </tr>\n",
       "    <tr>\n",
       "      <th>3</th>\n",
       "      <td>1993</td>\n",
       "      <td>27.13</td>\n",
       "      <td>0.90</td>\n",
       "      <td>0.14</td>\n",
       "      <td>9145</td>\n",
       "      <td>1399</td>\n",
       "    </tr>\n",
       "    <tr>\n",
       "      <th>4</th>\n",
       "      <td>1994</td>\n",
       "      <td>29.45</td>\n",
       "      <td>1.05</td>\n",
       "      <td>0.20</td>\n",
       "      <td>10460</td>\n",
       "      <td>1663</td>\n",
       "    </tr>\n",
       "  </tbody>\n",
       "</table>\n",
       "</div>"
      ],
      "text/plain": [
       "     年份     人数  机动车数  公路面积  公路客运量  公路货运量\n",
       "0  1990  20.55  0.60  0.09   5126   1237\n",
       "1  1991  22.44  0.75  0.11   6217   1379\n",
       "2  1992  25.37  0.85  0.11   7730   1385\n",
       "3  1993  27.13  0.90  0.14   9145   1399\n",
       "4  1994  29.45  1.05  0.20  10460   1663"
      ]
     },
     "execution_count": 51,
     "metadata": {},
     "output_type": "execute_result"
    }
   ],
   "source": [
    "data.head()"
   ]
  },
  {
   "cell_type": "code",
   "execution_count": 52,
   "id": "376af3ca",
   "metadata": {},
   "outputs": [],
   "source": [
    "# 数据归一化处理\n",
    "x_scaler = MinMaxScaler(feature_range=(-1, 1))\n",
    "y_scaler = MinMaxScaler(feature_range=(-1, 1))\n",
    "\n",
    "x = x_scaler.fit_transform(x)\n",
    "y = y_scaler.fit_transform(y)"
   ]
  },
  {
   "cell_type": "code",
   "execution_count": 53,
   "id": "cf9c9c75",
   "metadata": {},
   "outputs": [
    {
     "data": {
      "text/plain": [
       "array([[-1.00000000e+00, -1.00000000e+00, -1.00000000e+00],\n",
       "       [-9.05688623e-01, -8.80000000e-01, -9.42857143e-01],\n",
       "       [-7.59481038e-01, -8.00000000e-01, -9.42857143e-01],\n",
       "       [-6.71656687e-01, -7.60000000e-01, -8.57142857e-01],\n",
       "       [-5.55888224e-01, -6.40000000e-01, -6.85714286e-01],\n",
       "       [-5.23453094e-01, -4.00000000e-01, -6.00000000e-01],\n",
       "       [-4.80538922e-01, -3.20000000e-01, -6.00000000e-01],\n",
       "       [-3.25848303e-01, -2.00000000e-01, -3.42857143e-01],\n",
       "       [-2.08083832e-01, -1.20000000e-01, -3.42857143e-01],\n",
       "       [-1.24750499e-01,  2.22044605e-16, -2.85714286e-01],\n",
       "       [-7.28542914e-02,  2.40000000e-01, -2.28571429e-01],\n",
       "       [-2.99401198e-02,  2.80000000e-01, -2.28571429e-01],\n",
       "       [ 6.68662675e-02,  3.20000000e-01, -1.71428571e-01],\n",
       "       [ 1.99600798e-01,  4.00000000e-01,  1.42857143e-01],\n",
       "       [ 3.34830339e-01,  5.20000000e-01,  3.42857143e-01],\n",
       "       [ 6.13772455e-01,  6.00000000e-01,  4.28571429e-01],\n",
       "       [ 7.55489022e-01,  6.80000000e-01,  4.28571429e-01],\n",
       "       [ 8.06886228e-01,  8.00000000e-01,  6.57142857e-01],\n",
       "       [ 9.27145709e-01,  8.80000000e-01,  7.14285714e-01],\n",
       "       [ 1.00000000e+00,  1.00000000e+00,  1.00000000e+00]])"
      ]
     },
     "execution_count": 53,
     "metadata": {},
     "output_type": "execute_result"
    }
   ],
   "source": [
    "x"
   ]
  },
  {
   "cell_type": "code",
   "execution_count": 54,
   "id": "492fead6",
   "metadata": {},
   "outputs": [],
   "source": [
    "# 转置\n",
    "sample_in=x.T\n",
    "sample_out=y.T"
   ]
  },
  {
   "cell_type": "code",
   "execution_count": 55,
   "id": "00417368",
   "metadata": {},
   "outputs": [],
   "source": [
    "#BP神经网络网络参数\n",
    "max_epochs=10000 #最大循环迭代次数\n",
    "learn_rate=0.03  #学习率\n",
    "mse_final=7.5e-4  #设置一个均方误差（MSE）的阈值，小于它则停止迭代\n",
    "sample_number=x.shape[0]  #样本规模\n",
    "input_number=x.shape[1]  #输入规模\n",
    "output_number=y.shape[1]  #输出规模\n",
    "hidden_units=8 #隐含层（Hidden Layer）神经元个数"
   ]
  },
  {
   "cell_type": "code",
   "execution_count": 56,
   "id": "1024e8c8",
   "metadata": {},
   "outputs": [
    {
     "name": "stdout",
     "output_type": "stream",
     "text": [
      "20 3 2\n"
     ]
    }
   ],
   "source": [
    "print(sample_number,input_number,output_number)"
   ]
  },
  {
   "cell_type": "code",
   "execution_count": 57,
   "id": "a6cffe61",
   "metadata": {},
   "outputs": [],
   "source": [
    "def sigmoid(z):\n",
    "    return  1/(1+np.exp(-z))\n",
    "\n",
    "def sigmoid_delta(z): #sigmoid的偏导数\n",
    "    return 1/((1+np.exp(-z))**2)*np.exp(-z)"
   ]
  },
  {
   "cell_type": "code",
   "execution_count": 58,
   "id": "7dbe0780",
   "metadata": {},
   "outputs": [],
   "source": [
    "#一层隐含层\n",
    "#W1矩阵:M行N列，M等于该层神经元个数，N等于输入特征个数\n",
    "W1=0.5*np.random.rand(hidden_units,input_number)-0.1\n",
    "b1=0.5*np.random.rand(hidden_units,1)-0.1"
   ]
  },
  {
   "cell_type": "code",
   "execution_count": 59,
   "id": "cace75ff",
   "metadata": {},
   "outputs": [],
   "source": [
    "W2=0.5*np.random.rand(output_number,hidden_units)-0.1\n",
    "b2=0.5*np.random.rand(output_number,1)-0.1\n",
    "\n",
    "mse_history=[]  #空列表，存储迭代的误差"
   ]
  },
  {
   "cell_type": "code",
   "execution_count": 60,
   "id": "eba21c17",
   "metadata": {},
   "outputs": [
    {
     "name": "stdout",
     "output_type": "stream",
     "text": [
      "Iter:100次,mse_err(loss=)0.015312209339933108\n",
      "Iter:200次,mse_err(loss=)0.014797371664795545\n",
      "Iter:300次,mse_err(loss=)0.014352440248386698\n",
      "Iter:400次,mse_err(loss=)0.013963626148379265\n",
      "Iter:500次,mse_err(loss=)0.013620139717817925\n",
      "Iter:600次,mse_err(loss=)0.013313546192656244\n",
      "Iter:700次,mse_err(loss=)0.013037329873291491\n",
      "Iter:800次,mse_err(loss=)0.012786552779202065\n",
      "Iter:900次,mse_err(loss=)0.012557565330544685\n",
      "Iter:1000次,mse_err(loss=)0.012347757549394581\n",
      "Iter:1100次,mse_err(loss=)0.012155347017120833\n",
      "Iter:1200次,mse_err(loss=)0.01197919744328967\n",
      "Iter:1300次,mse_err(loss=)0.011818657565911089\n",
      "Iter:1400次,mse_err(loss=)0.011673408682490297\n",
      "Iter:1500次,mse_err(loss=)0.011543312075369917\n",
      "Iter:1600次,mse_err(loss=)0.011428254375952008\n",
      "Iter:1700次,mse_err(loss=)0.011327997165698564\n",
      "Iter:1800次,mse_err(loss=)0.011242043724016835\n",
      "Iter:1900次,mse_err(loss=)0.011169538346601835\n",
      "Iter:2000次,mse_err(loss=)0.011109211327112928\n",
      "Iter:2100次,mse_err(loss=)0.01105937658151752\n",
      "Iter:2200次,mse_err(loss=)0.01101798110783289\n",
      "Iter:2300次,mse_err(loss=)0.010982698165860491\n",
      "Iter:2400次,mse_err(loss=)0.010951050729509856\n",
      "Iter:2500次,mse_err(loss=)0.010920549056167832\n",
      "Iter:2600次,mse_err(loss=)0.010888826095392217\n",
      "Iter:2700次,mse_err(loss=)0.010853756481516178\n",
      "Iter:2800次,mse_err(loss=)0.010813548405979898\n",
      "Iter:2900次,mse_err(loss=)0.010766802082914145\n",
      "Iter:3000次,mse_err(loss=)0.010712533151966507\n",
      "Iter:3100次,mse_err(loss=)0.010650163596486763\n",
      "Iter:3200次,mse_err(loss=)0.010579486078475166\n",
      "Iter:3300次,mse_err(loss=)0.010500609650775535\n",
      "Iter:3400次,mse_err(loss=)0.010413895470017063\n",
      "Iter:3500次,mse_err(loss=)0.010319890513608937\n",
      "Iter:3600次,mse_err(loss=)0.01021926572401314\n",
      "Iter:3700次,mse_err(loss=)0.010112762909784117\n",
      "Iter:3800次,mse_err(loss=)0.010001152580937029\n",
      "Iter:3900次,mse_err(loss=)0.009885203048981252\n",
      "Iter:4000次,mse_err(loss=)0.009765659790076292\n",
      "Iter:4100次,mse_err(loss=)0.009643233304782586\n",
      "Iter:4200次,mse_err(loss=)0.00951859343826288\n",
      "Iter:4300次,mse_err(loss=)0.009392368212619004\n",
      "Iter:4400次,mse_err(loss=)0.009265145518454698\n",
      "Iter:4500次,mse_err(loss=)0.009137476391151336\n",
      "Iter:4600次,mse_err(loss=)0.009009878975223568\n",
      "Iter:4700次,mse_err(loss=)0.008882842613618314\n",
      "Iter:4800次,mse_err(loss=)0.008756831773083512\n",
      "Iter:4900次,mse_err(loss=)0.008632289733585674\n",
      "Iter:5000次,mse_err(loss=)0.008509642138253417\n",
      "Iter:5100次,mse_err(loss=)0.008389300631602741\n",
      "Iter:5200次,mse_err(loss=)0.008271666919504716\n",
      "Iter:5300次,mse_err(loss=)0.00815713767714198\n",
      "Iter:5400次,mse_err(loss=)0.008046110826084581\n",
      "Iter:5500次,mse_err(loss=)0.007938993817573561\n",
      "Iter:5600次,mse_err(loss=)0.007836214721092449\n",
      "Iter:5700次,mse_err(loss=)0.007738237159338665\n",
      "Iter:5800次,mse_err(loss=)0.007645580501067198\n",
      "Iter:5900次,mse_err(loss=)0.007558847293597843\n",
      "Iter:6000次,mse_err(loss=)0.0074787607975835444\n",
      "Iter:6100次,mse_err(loss=)0.007406216853973499\n",
      "Iter:6200次,mse_err(loss=)0.007342356454124388\n",
      "Iter:6300次,mse_err(loss=)0.007288668775286755\n",
      "Iter:6400次,mse_err(loss=)0.007247139884865231\n",
      "Iter:6500次,mse_err(loss=)0.007220471153131919\n",
      "Iter:6600次,mse_err(loss=)0.007212405882568912\n",
      "Iter:6700次,mse_err(loss=)0.00722822634134844\n",
      "Iter:6800次,mse_err(loss=)0.007275521453167162\n",
      "Iter:6900次,mse_err(loss=)0.007365383373914569\n",
      "Iter:7000次,mse_err(loss=)0.00751426786933969\n",
      "Iter:7100次,mse_err(loss=)0.007746815728882117\n",
      "Iter:7200次,mse_err(loss=)0.00809984470626883\n",
      "Iter:7300次,mse_err(loss=)0.008627087622354099\n",
      "Iter:7400次,mse_err(loss=)0.009402185045069754\n",
      "Iter:7500次,mse_err(loss=)0.010512615860742864\n",
      "Iter:7600次,mse_err(loss=)0.012029648518625044\n",
      "Iter:7700次,mse_err(loss=)0.01393677741349727\n",
      "Iter:7800次,mse_err(loss=)0.016027874112294466\n",
      "Iter:7900次,mse_err(loss=)0.017874815870573192\n",
      "Iter:8000次,mse_err(loss=)0.019021044899867827\n",
      "Iter:8100次,mse_err(loss=)0.019322251494230287\n",
      "Iter:8200次,mse_err(loss=)0.019018666234406085\n",
      "Iter:8300次,mse_err(loss=)0.018445892519089613\n",
      "Iter:8400次,mse_err(loss=)0.0178045738029132\n",
      "Iter:8500次,mse_err(loss=)0.017166929664788173\n",
      "Iter:8600次,mse_err(loss=)0.0165551081550017\n",
      "Iter:8700次,mse_err(loss=)0.015980776006392756\n",
      "Iter:8800次,mse_err(loss=)0.015451954191668855\n",
      "Iter:8900次,mse_err(loss=)0.014972097504759946\n",
      "Iter:9000次,mse_err(loss=)0.014540315606493975\n",
      "Iter:9100次,mse_err(loss=)0.014152762162789378\n",
      "Iter:9200次,mse_err(loss=)0.01380409433682057\n",
      "Iter:9300次,mse_err(loss=)0.013488556709717808\n",
      "Iter:9400次,mse_err(loss=)0.01320066191299225\n",
      "Iter:9500次,mse_err(loss=)0.0129355661845727\n",
      "Iter:9600次,mse_err(loss=)0.012689248660843352\n",
      "Iter:9700次,mse_err(loss=)0.01245858365601077\n",
      "Iter:9800次,mse_err(loss=)0.012241372995520505\n",
      "Iter:9900次,mse_err(loss=)0.012036389069986986\n",
      "Iter:10000次,mse_err(loss=)0.011843472105669196\n"
     ]
    }
   ],
   "source": [
    "for i in range(max_epochs):\n",
    "    #训练\n",
    "    hidden_out=sigmoid(np.dot(W1,sample_in)+b1)  #np.dot矩矩阵相乘,hidden_out1结果为8行20列\n",
    "    network_out=np.dot(W2,hidden_out)+b2  #np.dot矩阵相乘,W2是2行8列，则output结果是2行20列\n",
    "    #误差\n",
    "    err=sample_out-network_out\n",
    "    mse_err=np.average(np.square(err)) #均方误差\n",
    "    mse_history.append(mse_err)\n",
    "    if(i+1)% 100 == 0:\n",
    "        print(\"Iter:{}次,mse_err(loss=){}\".format(i+1,mse_err))\n",
    "    if mse_err<mse_final:\n",
    "        print(\"Iter:{}次,mse_err(loss=){}\".format(i+1,mse_err))\n",
    "        print(\"训练结束\")\n",
    "        break\n",
    "    #BP\n",
    "    #误差向量\n",
    "    delta2=-err #最后一层的误差\n",
    "    delta1=np.dot(W2.transpose(),delta2)*sigmoid_delta(hidden_out)  #前一层的误差向量,这一层对hidden_out用了sigmoid激活函数,要对hidden_out求偏导数；注意最后一步是两个矩阵的点乘，是两个完全相同维度矩阵\n",
    "    #梯度：损失函数的偏导数\n",
    "    delta_W2=np.dot(delta2,hidden_out.transpose())\n",
    "    delta_W1=np.dot(delta1,sample_in.transpose())\n",
    "    delta_b2=np.dot(delta2,np.ones((sample_number,1)))\n",
    "    delta_b1=np.dot(delta1,np.ones((sample_number,1)))\n",
    "    W2-=learn_rate*delta_W2\n",
    "    b2-=learn_rate*delta_b2\n",
    "    W1-=learn_rate*delta_W1\n",
    "    b1-=learn_rate*delta_b1"
   ]
  },
  {
   "cell_type": "code",
   "execution_count": 61,
   "id": "f959abae",
   "metadata": {},
   "outputs": [
    {
     "name": "stdout",
     "output_type": "stream",
     "text": [
      "w1=[[-1.80735833 -0.23615054 -0.87248071]\n",
      " [ 2.94399689  1.23119056  0.59649337]\n",
      " [ 1.15518912  0.728072    0.23683256]\n",
      " [ 1.17544836 -0.56851879  0.73586172]\n",
      " [ 2.40604436  1.42543888  0.4327497 ]\n",
      " [ 2.429739    0.31632696  0.65494289]\n",
      " [-0.05342123  0.02098238  0.30428098]\n",
      " [ 2.16461063  1.36574208  0.64200716]],b1=[[-0.08147966]\n",
      " [-1.10855408]\n",
      " [-0.13374572]\n",
      " [ 0.17397669]\n",
      " [-0.56525085]\n",
      " [-0.2223826 ]\n",
      " [ 0.73498709]\n",
      " [-0.38091052]],w2=[[-0.83913239  0.59945259  0.58753425  1.58438306 -0.85511623  0.69677742\n",
      "   1.21254    -0.75498656]\n",
      " [-0.10813839  0.11401837  1.58726639 -0.08991537  0.05132812  0.08121307\n",
      "  -0.74404015  0.5397673 ]],b2=[[-1.40487127]\n",
      " [-0.66565547]]\n"
     ]
    }
   ],
   "source": [
    "print(\"w1={},b1={},w2={},b2={}\".format(W1,b1,W2,b2))"
   ]
  },
  {
   "cell_type": "code",
   "execution_count": 70,
   "id": "e4364cca",
   "metadata": {},
   "outputs": [
    {
     "data": {
      "image/png": "[encoded data removed]",
      "text/plain": [
       "<Figure size 432x288 with 1 Axes>"
      ]
     },
     "metadata": {
      "needs_background": "light"
     },
     "output_type": "display_data"
    }
   ],
   "source": [
    "#损失值画图\n",
    "# print(mse_history)\n",
    "loss=np.log10(mse_history)\n",
    "min_mse=min(loss)\n",
    "plt.rcParams['font.sans-serif'] = [u'SimHei']\n",
    "plt.plot(loss,color='purple',label='loss')\n",
    "plt.plot([0,len(loss)],[min_mse,min_mse],label='最小误差')\n",
    "plt.xlabel('迭代次数')\n",
    "plt.ylabel('均方误差')\n",
    "plt.title('历史误差信息',fontdict={'fontsize':18,'color':'purple'})\n",
    "plt.legend()\n",
    "plt.show()"
   ]
  },
  {
   "cell_type": "code",
   "execution_count": 63,
   "id": "cb4a1735",
   "metadata": {},
   "outputs": [],
   "source": [
    "#模型预测输出和实际输出对比图\n",
    "hidden_out=sigmoid(np.dot(W1,sample_in)+b1)\n",
    "network_out=np.dot(W2,hidden_out)+b2"
   ]
  },
  {
   "cell_type": "code",
   "execution_count": 64,
   "id": "43809057",
   "metadata": {},
   "outputs": [],
   "source": [
    "#反转获取实际值：\n",
    "network_out=y_scaler.inverse_transform(network_out.T)\n",
    "sample_out=y_scaler.inverse_transform(y)"
   ]
  },
  {
   "cell_type": "code",
   "execution_count": 68,
   "id": "e43bfc55",
   "metadata": {},
   "outputs": [
    {
     "data": {
      "image/png": "[encoded data removed]",
      "text/plain": [
       "<Figure size 576x432 with 1 Axes>"
      ]
     },
     "metadata": {
      "needs_background": "light"
     },
     "output_type": "display_data"
    }
   ],
   "source": [
    "#解决图片中文无法显示\n",
    "plt.rcParams['font.sans-serif'] = [u'SimHei']\n",
    "plt.rcParams['axes.unicode_minus'] = False\n",
    "\n",
    "plt.figure(figsize=(8, 6))\n",
    "plt.plot(network_out[:,0],'r',label='预测值')\n",
    "plt.plot(sample_out[:,0],'c*',label='实际值')\n",
    "x_labels = range(1990,2010)\n",
    "x_ticks=range(0,20)\n",
    "plt.xticks(ticks=x_ticks, labels=x_labels)\n",
    "plt.title('公路客运量 ')\n",
    "plt.legend()\n",
    "plt.show()"
   ]
  },
  {
   "cell_type": "code",
   "execution_count": 19,
   "id": "369e9f4a",
   "metadata": {},
   "outputs": [
    {
     "name": "stdout",
     "output_type": "stream",
     "text": [
      "1990\n",
      "1991\n",
      "1992\n",
      "1993\n",
      "1994\n",
      "1995\n",
      "1996\n",
      "1997\n",
      "1998\n",
      "1999\n",
      "2000\n",
      "2001\n",
      "2002\n",
      "2003\n",
      "2004\n",
      "2005\n",
      "2006\n",
      "2007\n",
      "2008\n",
      "2009\n"
     ]
    }
   ],
   "source": [
    "for i in range(1990,2010):\n",
    "    print(i)"
   ]
  },
  {
   "cell_type": "code",
   "execution_count": 20,
   "id": "06a9e7db",
   "metadata": {},
   "outputs": [
    {
     "data": {
      "image/png": "[encoded data removed]",
      "text/plain": [
       "<Figure size 576x432 with 1 Axes>"
      ]
     },
     "metadata": {
      "needs_background": "light"
     },
     "output_type": "display_data"
    }
   ],
   "source": [
    "plt.figure(figsize=(8, 6))\n",
    "plt.plot(network_out[:,1],label='预测值')\n",
    "plt.plot(sample_out[:,1],'r.',label='实际值')\n",
    "plt.title('公路货运量 ')\n",
    "\n",
    "x_labels = range(1990,2010)\n",
    "x_ticks=range(0,20)\n",
    "plt.xticks(ticks=x_ticks, labels=x_labels)\n",
    "\n",
    "plt.legend()\n",
    "plt.show()"
   ]
  },
  {
   "cell_type": "code",
   "execution_count": 21,
   "id": "fde5ab2b",
   "metadata": {},
   "outputs": [],
   "source": [
    "# 现在开始预测环节\n",
    "PredictDataFrame = pd.read_csv('DataUnknown.csv',encoding='utf-8')\n",
    "\n",
    "Pre_x=PredictDataFrame[['人数', '机动车数', '公路面积']]\n",
    "Pre_y=PredictDataFrame[['公路客运量', '公路货运量']]\n",
    "\n",
    "pre_x_scaler = MinMaxScaler(feature_range=(-1,1))\n",
    "pre_y_scaler=MinMaxScaler(feature_range=(-1,1))\n",
    "\n",
    "pre_x=pre_x_scaler.fit_transform(Pre_x)\n",
    "pre_y=pre_y_scaler.fit_transform(Pre_y)"
   ]
  },
  {
   "cell_type": "code",
   "execution_count": 22,
   "id": "981321c8",
   "metadata": {},
   "outputs": [],
   "source": [
    "#对样本进行转置，矩阵运算\n",
    "pre_in=pre_x.T\n",
    "pre_out=pre_y.T"
   ]
  },
  {
   "cell_type": "code",
   "execution_count": 126,
   "id": "1f5dd8d6",
   "metadata": {},
   "outputs": [],
   "source": [
    "#模型预测输出值\n",
    "hidden_out_pre = sigmoid(np.dot(W1,pre_in)+b1)\n",
    "network_out_pre=np.dot(W2,hidden_out_pre)+b2"
   ]
  },
  {
   "cell_type": "code",
   "execution_count": 127,
   "id": "ca38bc37",
   "metadata": {},
   "outputs": [],
   "source": [
    "#翻转获取实际值\n",
    "network_out_pre=pre_y_scaler.inverse_transform(network_out_pre.T)"
   ]
  },
  {
   "cell_type": "code",
   "execution_count": 128,
   "id": "1c4603f9",
   "metadata": {},
   "outputs": [
    {
     "data": {
      "text/plain": [
       "array([[55042.17912305, 30524.68660012],\n",
       "       [56676.31972952, 32126.59363199]])"
      ]
     },
     "execution_count": 128,
     "metadata": {},
     "output_type": "execute_result"
    }
   ],
   "source": [
    "network_out_pre"
   ]
  },
  {
   "cell_type": "code",
   "execution_count": null,
   "id": "53b21c36",
   "metadata": {},
   "outputs": [],
   "source": []
  }
 ],
 "metadata": {
  "kernelspec": {
   "display_name": "Python 3 (ipykernel)",
   "language": "python",
   "name": "python3"
  },
  "language_info": {
   "codemirror_mode": {
    "name": "ipython",
    "version": 3
   },
   "file_extension": ".py",
   "mimetype": "text/x-python",
   "name": "python",
   "nbconvert_exporter": "python",
   "pygments_lexer": "ipython3",
   "version": "3.9.7"
  }
 },
 "nbformat": 4,
 "nbformat_minor": 5
}
