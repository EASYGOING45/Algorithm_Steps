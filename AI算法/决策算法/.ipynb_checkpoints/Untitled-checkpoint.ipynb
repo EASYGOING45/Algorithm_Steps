{
 "cells": [
  {
   "cell_type": "code",
   "execution_count": 7,
   "id": "a4714498",
   "metadata": {},
   "outputs": [],
   "source": [
    "import numpy as np\n",
    "import xlrd"
   ]
  },
  {
   "cell_type": "markdown",
   "id": "0e5fe0c0",
   "metadata": {},
   "source": [
    "np.mat()函数用于将输入解释为矩阵"
   ]
  },
  {
   "cell_type": "code",
   "execution_count": 8,
   "id": "5edfcdd4",
   "metadata": {},
   "outputs": [],
   "source": [
    "#均值计算函数\n",
    "def get_u(x):\n",
    "    u = np.mean(x,axis=0)   #计算每一列的均值u\n",
    "    return u"
   ]
  },
  {
   "cell_type": "code",
   "execution_count": 9,
   "id": "4d196672",
   "metadata": {},
   "outputs": [],
   "source": [
    "#计算协方差矩阵\n",
    "def get_sigmal(x):\n",
    "    sigmal = np.cov(np.mat(x).T)\n",
    "    return sigmal"
   ]
  },
  {
   "cell_type": "code",
   "execution_count": 13,
   "id": "5a676e96",
   "metadata": {},
   "outputs": [],
   "source": [
    "#根据式(49)计算判别函数的值\n",
    "def get_gi(x,u,sigmal,pw,d):\n",
    "    #将各个数据转换为np.array矩阵形式\n",
    "    x = np.mat(x)\n",
    "    u = np.mat(u)\n",
    "    sigmal = np.mat(sigmal)\n",
    "    pw=np.mat(pw)\n",
    "    \n",
    "    #根据公式49计算判别函数的值\n",
    "    g = -0.5* (x-u).T *  sigmal.I * (x-u) -  d / 2 * np.log(2*np.pi) - 0.5*np.log(np.linalg.det(sigmal)) + np.log(pw)\n",
    "    return g"
   ]
  },
  {
   "cell_type": "code",
   "execution_count": 20,
   "id": "4ca9d81b",
   "metadata": {},
   "outputs": [],
   "source": [
    "def get_data():\n",
    "    x = []\n",
    "    data = xlrd.open_workbook(\"data.xls\")\n",
    "    table = data.sheets()[0]\n",
    "    rows = table.nrows\n",
    "    for i in range(0, rows):\n",
    "        row_value = table.row_values(i)\n",
    "        if row_value[3] != 3:\n",
    "            x.append(row_value)\n",
    "    return x\n",
    "\n",
    "                              "
   ]
  },
  {
   "cell_type": "code",
   "execution_count": 50,
   "id": "d3c277f5",
   "metadata": {},
   "outputs": [],
   "source": [
    "d = 1   #特征维度\n",
    "g = [0,0,0]       \n",
    "pw = (0.5,0.5,0)  #先验概率\n",
    "u = [0,0,0]   #各个维度的均值\n",
    "sigmal = [0,0,0]   #各个维度的协方差矩阵"
   ]
  },
  {
   "cell_type": "code",
   "execution_count": 51,
   "id": "bf15dfb6",
   "metadata": {},
   "outputs": [],
   "source": [
    "data=get_data()"
   ]
  },
  {
   "cell_type": "code",
   "execution_count": 52,
   "id": "a3913b15",
   "metadata": {},
   "outputs": [
    {
     "data": {
      "text/plain": [
       "[[-5.01, -8.12, -3.68, 1.0],\n",
       " [-0.91, -0.18, -0.05, 2.0],\n",
       " [-5.43, -3.48, -3.54, 1.0],\n",
       " [1.3, -2.06, -3.53, 2.0],\n",
       " [1.08, -5.52, 1.66, 1.0],\n",
       " [-7.75, -4.54, -0.95, 2.0],\n",
       " [0.86, -3.78, -4.11, 1.0],\n",
       " [-5.47, 0.5, 3.92, 2.0],\n",
       " [-2.67, 0.63, 7.39, 1.0],\n",
       " [6.14, 5.72, -4.85, 2.0],\n",
       " [4.94, 3.29, 2.08, 1.0],\n",
       " [3.6, 1.26, 4.36, 2.0],\n",
       " [-2.51, 2.09, -2.59, 1.0],\n",
       " [5.37, -4.63, -3.65, 2.0],\n",
       " [-2.25, -2.13, -6.94, 1.0],\n",
       " [7.18, 1.46, -6.66, 2.0],\n",
       " [5.56, 2.86, -2.26, 1.0],\n",
       " [-7.39, 1.17, 6.3, 2.0],\n",
       " [1.03, -3.33, 4.33, 1.0],\n",
       " [-7.5, -6.32, -0.31, 2.0]]"
      ]
     },
     "execution_count": 52,
     "metadata": {},
     "output_type": "execute_result"
    }
   ],
   "source": [
    "data"
   ]
  },
  {
   "cell_type": "code",
   "execution_count": 55,
   "id": "1391e055",
   "metadata": {},
   "outputs": [
    {
     "name": "stdout",
     "output_type": "stream",
     "text": [
      "i=0\n",
      "第1个特征对应的参数\n",
      "xi=[[-5.01], [-5.43], [1.08], [0.86], [-2.67], [4.94], [-2.51], [-2.25], [5.56], [1.03]]\n",
      "ui=[-0.44]\n",
      "sigmali=14.38051111111111\n",
      "----------------\n",
      "i=1\n",
      "第2个特征对应的参数\n",
      "xi=[[-0.91], [1.3], [-7.75], [-5.47], [6.14], [3.6], [5.37], [7.18], [-7.39], [-7.5]]\n",
      "ui=[-0.543]\n",
      "sigmali=36.82933444444445\n",
      "----------------\n"
     ]
    }
   ],
   "source": [
    "for i in range(len(pw)-1):\n",
    "    xi = [x[:d] for x in filter(lambda x :x[3] == i+1,data)]  #获得每一个类别的对应特征\n",
    "    u[i] = get_u(xi)\n",
    "    sigmal[i] = get_sigmal(xi)\n",
    "    print(\"i={}\".format(i))\n",
    "    print(\"第{}个特征对应的参数\".format(i+1))\n",
    "    print(\"xi={}\".format(xi))\n",
    "    print(\"ui={}\".format(u[i]))\n",
    "    print(\"sigmali={}\".format(sigmal[i]))\n",
    "    print(\"----------------\")"
   ]
  },
  {
   "cell_type": "code",
   "execution_count": 62,
   "id": "14039158",
   "metadata": {},
   "outputs": [
    {
     "name": "stdout",
     "output_type": "stream",
     "text": [
      "第1个样本点\n",
      "x =  [-5.01]\n",
      "g1(x) =[[-3.67117557]] g2(x) =[[-3.68613244]]\n",
      "w1 True\n",
      "第1个样本点\n",
      "x =  [-0.91]\n",
      "g1(x) =[[-2.95270319]] g2(x) =[[-3.4170616]]\n",
      "w1 False\n",
      "第2个样本点\n",
      "x =  [-5.43]\n",
      "g1(x) =[[-3.81078118]] g2(x) =[[-3.73946873]]\n",
      "w2 False\n",
      "第2个样本点\n",
      "x =  [1.3]\n",
      "g1(x) =[[-3.05029013]] g2(x) =[[-3.46134641]]\n",
      "w1 False\n",
      "第3个样本点\n",
      "x =  [1.08]\n",
      "g1(x) =[[-3.0253536]] g2(x) =[[-3.45099433]]\n",
      "w1 True\n",
      "第3个样本点\n",
      "x =  [-7.75]\n",
      "g1(x) =[[-4.80295732]] g2(x) =[[-4.120389]]\n",
      "w2 True\n",
      "第4个样本点\n",
      "x =  [0.86]\n",
      "g1(x) =[[-3.00378274]] g2(x) =[[-3.44195643]]\n",
      "w1 True\n",
      "第4个样本点\n",
      "x =  [-5.47]\n",
      "g1(x) =[[-3.82471671]] g2(x) =[[-3.74479818]]\n",
      "w2 True\n",
      "第5个样本点\n",
      "x =  [-2.67]\n",
      "g1(x) =[[-3.11792681]] g2(x) =[[-3.47665323]]\n",
      "w1 True\n",
      "第5个样本点\n",
      "x =  [6.14]\n",
      "g1(x) =[[-4.45040726]] g2(x) =[[-4.021577]]\n",
      "w2 True\n",
      "第6个样本点\n",
      "x =  [4.94]\n",
      "g1(x) =[[-3.95139857]] g2(x) =[[-3.8233763]]\n",
      "w2 False\n",
      "第6个样本点\n",
      "x =  [3.6]\n",
      "g1(x) =[[-3.51251292]] g2(x) =[[-3.64825991]]\n",
      "w1 False\n",
      "第7个样本点\n",
      "x =  [-2.51]\n",
      "g1(x) =[[-3.09400554]] g2(x) =[[-3.46776032]]\n",
      "w1 True\n",
      "第7个样本点\n",
      "x =  [5.37]\n",
      "g1(x) =[[-4.11869791]] g2(x) =[[-3.88990316]]\n",
      "w2 True\n",
      "第8个样本点\n",
      "x =  [-2.25]\n",
      "g1(x) =[[-3.0589303]] g2(x) =[[-3.45479185]]\n",
      "w1 True\n",
      "第8个样本点\n",
      "x =  [7.18]\n",
      "g1(x) =[[-4.96387997]] g2(x) =[[-4.22497791]]\n",
      "w2 True\n",
      "第9个样本点\n",
      "x =  [5.56]\n",
      "g1(x) =[[-4.1967167]] g2(x) =[[-3.92089802]]\n",
      "w2 False\n",
      "第9个样本点\n",
      "x =  [-7.39]\n",
      "g1(x) =[[-4.62446575]] g2(x) =[[-4.05170136]]\n",
      "w2 True\n",
      "第10个样本点\n",
      "x =  [1.03]\n",
      "g1(x) =[[-3.0201556]] g2(x) =[[-3.44882487]]\n",
      "w1 True\n",
      "第10个样本点\n",
      "x =  [-7.5]\n",
      "g1(x) =[[-4.67804869]] g2(x) =[[-4.07231591]]\n",
      "w2 True\n"
     ]
    }
   ],
   "source": [
    "num = 0\n",
    "for i in range(len(data)):\n",
    "    if i%2==0:\n",
    "        num+=1\n",
    "    print(\"第{}个样本点\".format(num))\n",
    "    x= data[i][:d]\n",
    "    w = data[i][3]\n",
    "    print(\"x = \",x)\n",
    "    g[0] = get_gi(x,u[0],sigmal[0],pw[0],d)\n",
    "    g[1] = get_gi(x,u[1],sigmal[1],pw[1],d)\n",
    "    print(\"g1(x) ={}\".format(g[0]), \"g2(x) ={}\".format(g[1]))\n",
    "    if g[0] > g[1]:\n",
    "        flag = w == 1\n",
    "        print(\"w1\", flag)\n",
    "    else:\n",
    "        flag = w == 2\n",
    "        print(\"w2\", flag)\n",
    "    if flag:\n",
    "        count_true += 1\n",
    "    else:\n",
    "        count_false += 1"
   ]
  },
  {
   "cell_type": "code",
   "execution_count": null,
   "id": "250732ed",
   "metadata": {},
   "outputs": [],
   "source": []
  }
 ],
 "metadata": {
  "kernelspec": {
   "display_name": "Python 3 (ipykernel)",
   "language": "python",
   "name": "python3"
  },
  "language_info": {
   "codemirror_mode": {
    "name": "ipython",
    "version": 3
   },
   "file_extension": ".py",
   "mimetype": "text/x-python",
   "name": "python",
   "nbconvert_exporter": "python",
   "pygments_lexer": "ipython3",
   "version": "3.9.7"
  }
 },
 "nbformat": 4,
 "nbformat_minor": 5
}
