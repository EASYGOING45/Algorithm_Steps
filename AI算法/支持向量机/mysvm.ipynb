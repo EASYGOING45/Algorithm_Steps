{
 "cells": [
  {
   "cell_type": "code",
   "execution_count": 40,
   "id": "40906263-7138-4f6d-8c0c-c7090f0e8349",
   "metadata": {},
   "outputs": [],
   "source": [
    "import numpy as np\n",
    "import pandas as pd\n",
    "from sklearn.svm import SVC\n",
    "import matplotlib.pyplot as plt\n",
    "import pandas as pd"
   ]
  },
  {
   "cell_type": "code",
   "execution_count": 41,
   "id": "a9ba710a-e58c-4e3a-91fe-0135c1f1f06e",
   "metadata": {},
   "outputs": [],
   "source": [
    "def dataplot(data, label):\n",
    "\n",
    "    data1 = data[label.label==-1]\n",
    "    data2 = data[label.label==1]\n",
    "\n",
    "    plt.scatter(data1.x, data1.y, c='red')\n",
    "    plt.scatter(data2.x, data2.y, c='blue')\n",
    "    #plt.show()"
   ]
  },
  {
   "cell_type": "code",
   "execution_count": 42,
   "id": "289b16e1-22ac-4cc4-b9b3-d6b7d6f6c907",
   "metadata": {},
   "outputs": [],
   "source": [
    "def mapping2higher(x1, x2):\n",
    "    x = []\n",
    "    for i in range(x1.shape[0]):\n",
    "        temp = []\n",
    "        temp.append(1.0)\n",
    "        temp.append(x1[i].tolist()[0])\n",
    "        temp.append(x2[i].tolist()[0])\n",
    "        temp.append(x1[i].tolist()[0]**2)\n",
    "        temp.append(x1[i].tolist()[0] * x2[i].tolist()[0])\n",
    "        temp.append(x2[i].tolist()[0]**2)\n",
    "        x.append(temp)\n",
    "    return np.array(x)"
   ]
  },
  {
   "cell_type": "code",
   "execution_count": 43,
   "id": "c8e8b4ef-ffab-4e3a-9714-748c1a499e7a",
   "metadata": {},
   "outputs": [],
   "source": [
    "df = pd.read_excel('./data.xlsx')"
   ]
  },
  {
   "cell_type": "code",
   "execution_count": 44,
   "id": "dd7700b3-bf60-486a-8191-e027cbe634a3",
   "metadata": {},
   "outputs": [
    {
     "data": {
      "text/html": [
       "<div>\n",
       "<style scoped>\n",
       "    .dataframe tbody tr th:only-of-type {\n",
       "        vertical-align: middle;\n",
       "    }\n",
       "\n",
       "    .dataframe tbody tr th {\n",
       "        vertical-align: top;\n",
       "    }\n",
       "\n",
       "    .dataframe thead th {\n",
       "        text-align: right;\n",
       "    }\n",
       "</style>\n",
       "<table border=\"1\" class=\"dataframe\">\n",
       "  <thead>\n",
       "    <tr style=\"text-align: right;\">\n",
       "      <th></th>\n",
       "      <th>X3-1</th>\n",
       "      <th>X3-2</th>\n",
       "      <th>X4-1</th>\n",
       "      <th>X4-2</th>\n",
       "    </tr>\n",
       "  </thead>\n",
       "  <tbody>\n",
       "    <tr>\n",
       "      <th>0</th>\n",
       "      <td>-3.0</td>\n",
       "      <td>-2.9</td>\n",
       "      <td>-2.0</td>\n",
       "      <td>-8.4</td>\n",
       "    </tr>\n",
       "    <tr>\n",
       "      <th>1</th>\n",
       "      <td>0.5</td>\n",
       "      <td>8.7</td>\n",
       "      <td>-8.9</td>\n",
       "      <td>0.2</td>\n",
       "    </tr>\n",
       "    <tr>\n",
       "      <th>2</th>\n",
       "      <td>2.9</td>\n",
       "      <td>2.1</td>\n",
       "      <td>-4.2</td>\n",
       "      <td>-7.7</td>\n",
       "    </tr>\n",
       "    <tr>\n",
       "      <th>3</th>\n",
       "      <td>-0.1</td>\n",
       "      <td>5.2</td>\n",
       "      <td>-8.5</td>\n",
       "      <td>-3.2</td>\n",
       "    </tr>\n",
       "    <tr>\n",
       "      <th>4</th>\n",
       "      <td>-4.0</td>\n",
       "      <td>2.2</td>\n",
       "      <td>-6.7</td>\n",
       "      <td>-4.0</td>\n",
       "    </tr>\n",
       "    <tr>\n",
       "      <th>5</th>\n",
       "      <td>-1.3</td>\n",
       "      <td>3.7</td>\n",
       "      <td>-0.5</td>\n",
       "      <td>-9.2</td>\n",
       "    </tr>\n",
       "    <tr>\n",
       "      <th>6</th>\n",
       "      <td>-3.4</td>\n",
       "      <td>6.2</td>\n",
       "      <td>-5.3</td>\n",
       "      <td>-6.7</td>\n",
       "    </tr>\n",
       "    <tr>\n",
       "      <th>7</th>\n",
       "      <td>-4.1</td>\n",
       "      <td>3.4</td>\n",
       "      <td>-8.7</td>\n",
       "      <td>-6.4</td>\n",
       "    </tr>\n",
       "    <tr>\n",
       "      <th>8</th>\n",
       "      <td>-5.1</td>\n",
       "      <td>1.6</td>\n",
       "      <td>-7.1</td>\n",
       "      <td>-9.7</td>\n",
       "    </tr>\n",
       "    <tr>\n",
       "      <th>9</th>\n",
       "      <td>1.9</td>\n",
       "      <td>5.1</td>\n",
       "      <td>-8.0</td>\n",
       "      <td>-6.3</td>\n",
       "    </tr>\n",
       "  </tbody>\n",
       "</table>\n",
       "</div>"
      ],
      "text/plain": [
       "   X3-1  X3-2  X4-1  X4-2\n",
       "0  -3.0  -2.9  -2.0  -8.4\n",
       "1   0.5   8.7  -8.9   0.2\n",
       "2   2.9   2.1  -4.2  -7.7\n",
       "3  -0.1   5.2  -8.5  -3.2\n",
       "4  -4.0   2.2  -6.7  -4.0\n",
       "5  -1.3   3.7  -0.5  -9.2\n",
       "6  -3.4   6.2  -5.3  -6.7\n",
       "7  -4.1   3.4  -8.7  -6.4\n",
       "8  -5.1   1.6  -7.1  -9.7\n",
       "9   1.9   5.1  -8.0  -6.3"
      ]
     },
     "execution_count": 44,
     "metadata": {},
     "output_type": "execute_result"
    }
   ],
   "source": [
    "df"
   ]
  },
  {
   "cell_type": "code",
   "execution_count": 45,
   "id": "3a982012-918f-4d1e-ba77-13ccc3b097c0",
   "metadata": {},
   "outputs": [
    {
     "data": {
      "text/plain": [
       "array([[ 1.  , -3.  , -2.9 ,  9.  ,  8.7 ,  8.41],\n",
       "       [ 1.  ,  0.5 ,  8.7 ,  0.25,  4.35, 75.69]])"
      ]
     },
     "execution_count": 45,
     "metadata": {},
     "output_type": "execute_result"
    }
   ],
   "source": [
    "mapping2higher(df[['X3-1']][0:2].values, df[['X3-2']][0:2].values)"
   ]
  },
  {
   "cell_type": "code",
   "execution_count": 46,
   "id": "c8d02535-bcd3-47af-855b-7a3b5e37c306",
   "metadata": {},
   "outputs": [],
   "source": [
    "classs_1_feature = mapping2higher(df[['X3-1']].values, df[['X3-2']].values)\n",
    "classs_2_feature = mapping2higher(df[['X4-1']].values, df[['X4-2']].values)"
   ]
  },
  {
   "cell_type": "code",
   "execution_count": 47,
   "id": "9bb28fd6-b1ed-4972-8298-4d69f9782b51",
   "metadata": {},
   "outputs": [
    {
     "data": {
      "text/plain": [
       "array([[ 1.000e+00, -3.000e+00, -2.900e+00,  9.000e+00,  8.700e+00,\n",
       "         8.410e+00],\n",
       "       [ 1.000e+00,  5.000e-01,  8.700e+00,  2.500e-01,  4.350e+00,\n",
       "         7.569e+01],\n",
       "       [ 1.000e+00,  2.900e+00,  2.100e+00,  8.410e+00,  6.090e+00,\n",
       "         4.410e+00],\n",
       "       [ 1.000e+00, -1.000e-01,  5.200e+00,  1.000e-02, -5.200e-01,\n",
       "         2.704e+01],\n",
       "       [ 1.000e+00, -4.000e+00,  2.200e+00,  1.600e+01, -8.800e+00,\n",
       "         4.840e+00],\n",
       "       [ 1.000e+00, -1.300e+00,  3.700e+00,  1.690e+00, -4.810e+00,\n",
       "         1.369e+01],\n",
       "       [ 1.000e+00, -3.400e+00,  6.200e+00,  1.156e+01, -2.108e+01,\n",
       "         3.844e+01],\n",
       "       [ 1.000e+00, -4.100e+00,  3.400e+00,  1.681e+01, -1.394e+01,\n",
       "         1.156e+01],\n",
       "       [ 1.000e+00, -5.100e+00,  1.600e+00,  2.601e+01, -8.160e+00,\n",
       "         2.560e+00],\n",
       "       [ 1.000e+00,  1.900e+00,  5.100e+00,  3.610e+00,  9.690e+00,\n",
       "         2.601e+01]])"
      ]
     },
     "execution_count": 47,
     "metadata": {},
     "output_type": "execute_result"
    }
   ],
   "source": [
    "classs_1_feature"
   ]
  },
  {
   "cell_type": "code",
   "execution_count": 48,
   "id": "a5a19131-5af3-4f3c-90eb-d23f86f665da",
   "metadata": {},
   "outputs": [
    {
     "data": {
      "text/plain": [
       "array([[ 1.000e+00, -2.000e+00, -8.400e+00,  4.000e+00,  1.680e+01,\n",
       "         7.056e+01],\n",
       "       [ 1.000e+00, -8.900e+00,  2.000e-01,  7.921e+01, -1.780e+00,\n",
       "         4.000e-02],\n",
       "       [ 1.000e+00, -4.200e+00, -7.700e+00,  1.764e+01,  3.234e+01,\n",
       "         5.929e+01],\n",
       "       [ 1.000e+00, -8.500e+00, -3.200e+00,  7.225e+01,  2.720e+01,\n",
       "         1.024e+01],\n",
       "       [ 1.000e+00, -6.700e+00, -4.000e+00,  4.489e+01,  2.680e+01,\n",
       "         1.600e+01],\n",
       "       [ 1.000e+00, -5.000e-01, -9.200e+00,  2.500e-01,  4.600e+00,\n",
       "         8.464e+01],\n",
       "       [ 1.000e+00, -5.300e+00, -6.700e+00,  2.809e+01,  3.551e+01,\n",
       "         4.489e+01],\n",
       "       [ 1.000e+00, -8.700e+00, -6.400e+00,  7.569e+01,  5.568e+01,\n",
       "         4.096e+01],\n",
       "       [ 1.000e+00, -7.100e+00, -9.700e+00,  5.041e+01,  6.887e+01,\n",
       "         9.409e+01],\n",
       "       [ 1.000e+00, -8.000e+00, -6.300e+00,  6.400e+01,  5.040e+01,\n",
       "         3.969e+01]])"
      ]
     },
     "execution_count": 48,
     "metadata": {},
     "output_type": "execute_result"
    }
   ],
   "source": [
    "classs_2_feature"
   ]
  },
  {
   "cell_type": "code",
   "execution_count": 49,
   "id": "e1035f0b-720e-435c-a2ff-80baf928ea78",
   "metadata": {},
   "outputs": [],
   "source": [
    "labels = np.array([3]*10 + [4]*10)"
   ]
  },
  {
   "cell_type": "code",
   "execution_count": 50,
   "id": "6cb0e68a-c407-4085-bff0-e89120f86214",
   "metadata": {},
   "outputs": [
    {
     "data": {
      "text/plain": [
       "array([3, 3, 3, 3, 3, 3, 3, 3, 3, 3, 4, 4, 4, 4, 4, 4, 4, 4, 4, 4])"
      ]
     },
     "execution_count": 50,
     "metadata": {},
     "output_type": "execute_result"
    }
   ],
   "source": [
    "labels"
   ]
  },
  {
   "cell_type": "code",
   "execution_count": 51,
   "id": "e21fc390-b61d-46e6-9b1b-a64e976c5bd4",
   "metadata": {},
   "outputs": [],
   "source": [
    "classes_feature = np.concatenate((classs_1_feature, classs_2_feature), axis=0)"
   ]
  },
  {
   "cell_type": "code",
   "execution_count": 52,
   "id": "56256b5c-4ad3-40fd-9942-8f8a3d55a86d",
   "metadata": {},
   "outputs": [
    {
     "name": "stdout",
     "output_type": "stream",
     "text": [
      "----support vector indice----\n",
      "[ 0  1 10 11 15]\n",
      "------ support vector ------\n",
      "[[ 1.000e+00 -3.000e+00 -2.900e+00  9.000e+00  8.700e+00  8.410e+00]\n",
      " [ 1.000e+00  5.000e-01  8.700e+00  2.500e-01  4.350e+00  7.569e+01]\n",
      " [ 1.000e+00 -2.000e+00 -8.400e+00  4.000e+00  1.680e+01  7.056e+01]\n",
      " [ 1.000e+00 -8.900e+00  2.000e-01  7.921e+01 -1.780e+00  4.000e-02]\n",
      " [ 1.000e+00 -5.000e-01 -9.200e+00  2.500e-01  4.600e+00  8.464e+01]]\n",
      "------- coef of feacture -------\n",
      "[[-1.30104261e-18 -1.11120406e-02 -9.88635351e-02  3.78999287e-02\n",
      "   2.10449994e-02  2.39074147e-02]]\n",
      "--------- intercept_ -------\n",
      "[-2.04490349]\n",
      "--------- n_support_ -------\n",
      "[2 3]\n"
     ]
    },
    {
     "data": {
      "image/png": "[encoded data removed]",
      "text/plain": [
       "<Figure size 432x288 with 1 Axes>"
      ]
     },
     "metadata": {
      "needs_background": "light"
     },
     "output_type": "display_data"
    }
   ],
   "source": [
    "clf = SVC(C=0.5,kernel='linear')\n",
    "clf.fit(classes_feature, labels)\n",
    "print('----support vector indice----')\n",
    "print(clf.support_)\n",
    "print('------ support vector ------')\n",
    "print(clf.support_vectors_)\n",
    "print('------- coef of feacture -------')\n",
    "print(clf.coef_)\n",
    "print('--------- intercept_ -------')\n",
    "print(clf.intercept_)\n",
    "print('--------- n_support_ -------')\n",
    "print(clf.n_support_)\n",
    "\n",
    "x = np.array([0, 10])\n",
    "y = -1/clf.coef_[0,1] * (clf.coef_[0,0] * x + clf.intercept_)\n",
    "\n",
    "plt.plot(x,y)\n",
    "plt.show()"
   ]
  },
  {
   "cell_type": "code",
   "execution_count": 53,
   "id": "4f8ea0b8-af1c-4671-a8f8-a7a5b5739dc8",
   "metadata": {},
   "outputs": [
    {
     "data": {
      "text/plain": [
       "0.01234833708321175"
      ]
     },
     "execution_count": 53,
     "metadata": {},
     "output_type": "execute_result"
    }
   ],
   "source": [
    "np.sum(clf.coef_ ** 2)"
   ]
  },
  {
   "cell_type": "code",
   "execution_count": 54,
   "id": "68dbb888-ed51-4652-91e9-b0d569aa6987",
   "metadata": {},
   "outputs": [
    {
     "data": {
      "text/plain": [
       "array([ True,  True,  True,  True,  True,  True,  True,  True,  True,\n",
       "        True,  True,  True,  True,  True,  True,  True,  True,  True,\n",
       "        True,  True])"
      ]
     },
     "execution_count": 54,
     "metadata": {},
     "output_type": "execute_result"
    }
   ],
   "source": [
    "clf.predict(classes_feature) == labels"
   ]
  },
  {
   "cell_type": "code",
   "execution_count": 33,
   "id": "6cad2d17-6f30-4c02-bee9-93b132112fec",
   "metadata": {},
   "outputs": [],
   "source": [
    "def linear_dist():\n",
    "    df = pd.read_excel('./data.xlsx')\n",
    "    for i in range(3,11):\n",
    "        print(i)\n",
    "        classs_1_feature = mapping2higher(df[['X3-1']][0:i].values, df[['X3-2']][0:i].values)\n",
    "        classs_2_feature = mapping2higher(df[['X4-1']][0:i].values, df[['X4-2']][0:i].values)\n",
    "        labels = np.array([3]*(i-1) + [4]*(i-1))\n",
    "        classes_feature = np.concatenate((classs_1_feature, classs_2_feature), axis=0)\n",
    "        clf = SVC(C=0.5,kernel='linear')\n",
    "        clf.fit(classes_feature, labels)\n",
    "        if np.all(clf.predict(classes_feature) == labels):\n",
    "            print(str(i-1)+\" can\")\n",
    "        else:\n",
    "            print(str(i-1)+\" can not!!!!!!\")"
   ]
  },
  {
   "cell_type": "code",
   "execution_count": 34,
   "id": "52803aca-6e08-46e3-8e9d-07e9e43e1561",
   "metadata": {},
   "outputs": [
    {
     "name": "stdout",
     "output_type": "stream",
     "text": [
      "3\n"
     ]
    },
    {
     "ename": "ValueError",
     "evalue": "Found input variables with inconsistent numbers of samples: [6, 4]",
     "output_type": "error",
     "traceback": [
      "\u001b[1;31m---------------------------------------------------------------------------\u001b[0m",
      "\u001b[1;31mValueError\u001b[0m                                Traceback (most recent call last)",
      "\u001b[1;32mC:\\Users\\ADMINI~1\\AppData\\Local\\Temp/ipykernel_18544/3904512529.py\u001b[0m in \u001b[0;36m<module>\u001b[1;34m\u001b[0m\n\u001b[1;32m----> 1\u001b[1;33m \u001b[0mlinear_dist\u001b[0m\u001b[1;33m(\u001b[0m\u001b[1;33m)\u001b[0m\u001b[1;33m\u001b[0m\u001b[1;33m\u001b[0m\u001b[0m\n\u001b[0m",
      "\u001b[1;32mC:\\Users\\ADMINI~1\\AppData\\Local\\Temp/ipykernel_18544/3555460195.py\u001b[0m in \u001b[0;36mlinear_dist\u001b[1;34m()\u001b[0m\n\u001b[0;32m      8\u001b[0m         \u001b[0mclasses_feature\u001b[0m \u001b[1;33m=\u001b[0m \u001b[0mnp\u001b[0m\u001b[1;33m.\u001b[0m\u001b[0mconcatenate\u001b[0m\u001b[1;33m(\u001b[0m\u001b[1;33m(\u001b[0m\u001b[0mclasss_1_feature\u001b[0m\u001b[1;33m,\u001b[0m \u001b[0mclasss_2_feature\u001b[0m\u001b[1;33m)\u001b[0m\u001b[1;33m,\u001b[0m \u001b[0maxis\u001b[0m\u001b[1;33m=\u001b[0m\u001b[1;36m0\u001b[0m\u001b[1;33m)\u001b[0m\u001b[1;33m\u001b[0m\u001b[1;33m\u001b[0m\u001b[0m\n\u001b[0;32m      9\u001b[0m         \u001b[0mclf\u001b[0m \u001b[1;33m=\u001b[0m \u001b[0mSVC\u001b[0m\u001b[1;33m(\u001b[0m\u001b[0mC\u001b[0m\u001b[1;33m=\u001b[0m\u001b[1;36m0.5\u001b[0m\u001b[1;33m,\u001b[0m\u001b[0mkernel\u001b[0m\u001b[1;33m=\u001b[0m\u001b[1;34m'linear'\u001b[0m\u001b[1;33m)\u001b[0m\u001b[1;33m\u001b[0m\u001b[1;33m\u001b[0m\u001b[0m\n\u001b[1;32m---> 10\u001b[1;33m         \u001b[0mclf\u001b[0m\u001b[1;33m.\u001b[0m\u001b[0mfit\u001b[0m\u001b[1;33m(\u001b[0m\u001b[0mclasses_feature\u001b[0m\u001b[1;33m,\u001b[0m \u001b[0mlabels\u001b[0m\u001b[1;33m)\u001b[0m\u001b[1;33m\u001b[0m\u001b[1;33m\u001b[0m\u001b[0m\n\u001b[0m\u001b[0;32m     11\u001b[0m         \u001b[1;32mif\u001b[0m \u001b[0mnp\u001b[0m\u001b[1;33m.\u001b[0m\u001b[0mall\u001b[0m\u001b[1;33m(\u001b[0m\u001b[0mclf\u001b[0m\u001b[1;33m.\u001b[0m\u001b[0mpredict\u001b[0m\u001b[1;33m(\u001b[0m\u001b[0mclasses_feature\u001b[0m\u001b[1;33m)\u001b[0m \u001b[1;33m==\u001b[0m \u001b[0mlabels\u001b[0m\u001b[1;33m)\u001b[0m\u001b[1;33m:\u001b[0m\u001b[1;33m\u001b[0m\u001b[1;33m\u001b[0m\u001b[0m\n\u001b[0;32m     12\u001b[0m             \u001b[0mprint\u001b[0m\u001b[1;33m(\u001b[0m\u001b[0mstr\u001b[0m\u001b[1;33m(\u001b[0m\u001b[0mi\u001b[0m\u001b[1;33m-\u001b[0m\u001b[1;36m1\u001b[0m\u001b[1;33m)\u001b[0m\u001b[1;33m+\u001b[0m\u001b[1;34m\" can\"\u001b[0m\u001b[1;33m)\u001b[0m\u001b[1;33m\u001b[0m\u001b[1;33m\u001b[0m\u001b[0m\n",
      "\u001b[1;32mE:\\Anaconda\\lib\\site-packages\\sklearn\\svm\\_base.py\u001b[0m in \u001b[0;36mfit\u001b[1;34m(self, X, y, sample_weight)\u001b[0m\n\u001b[0;32m    167\u001b[0m             \u001b[0mcheck_consistent_length\u001b[0m\u001b[1;33m(\u001b[0m\u001b[0mX\u001b[0m\u001b[1;33m,\u001b[0m \u001b[0my\u001b[0m\u001b[1;33m)\u001b[0m\u001b[1;33m\u001b[0m\u001b[1;33m\u001b[0m\u001b[0m\n\u001b[0;32m    168\u001b[0m         \u001b[1;32melse\u001b[0m\u001b[1;33m:\u001b[0m\u001b[1;33m\u001b[0m\u001b[1;33m\u001b[0m\u001b[0m\n\u001b[1;32m--> 169\u001b[1;33m             X, y = self._validate_data(X, y, dtype=np.float64,\n\u001b[0m\u001b[0;32m    170\u001b[0m                                        \u001b[0morder\u001b[0m\u001b[1;33m=\u001b[0m\u001b[1;34m'C'\u001b[0m\u001b[1;33m,\u001b[0m \u001b[0maccept_sparse\u001b[0m\u001b[1;33m=\u001b[0m\u001b[1;34m'csr'\u001b[0m\u001b[1;33m,\u001b[0m\u001b[1;33m\u001b[0m\u001b[1;33m\u001b[0m\u001b[0m\n\u001b[0;32m    171\u001b[0m                                        accept_large_sparse=False)\n",
      "\u001b[1;32mE:\\Anaconda\\lib\\site-packages\\sklearn\\base.py\u001b[0m in \u001b[0;36m_validate_data\u001b[1;34m(self, X, y, reset, validate_separately, **check_params)\u001b[0m\n\u001b[0;32m    431\u001b[0m                 \u001b[0my\u001b[0m \u001b[1;33m=\u001b[0m \u001b[0mcheck_array\u001b[0m\u001b[1;33m(\u001b[0m\u001b[0my\u001b[0m\u001b[1;33m,\u001b[0m \u001b[1;33m**\u001b[0m\u001b[0mcheck_y_params\u001b[0m\u001b[1;33m)\u001b[0m\u001b[1;33m\u001b[0m\u001b[1;33m\u001b[0m\u001b[0m\n\u001b[0;32m    432\u001b[0m             \u001b[1;32melse\u001b[0m\u001b[1;33m:\u001b[0m\u001b[1;33m\u001b[0m\u001b[1;33m\u001b[0m\u001b[0m\n\u001b[1;32m--> 433\u001b[1;33m                 \u001b[0mX\u001b[0m\u001b[1;33m,\u001b[0m \u001b[0my\u001b[0m \u001b[1;33m=\u001b[0m \u001b[0mcheck_X_y\u001b[0m\u001b[1;33m(\u001b[0m\u001b[0mX\u001b[0m\u001b[1;33m,\u001b[0m \u001b[0my\u001b[0m\u001b[1;33m,\u001b[0m \u001b[1;33m**\u001b[0m\u001b[0mcheck_params\u001b[0m\u001b[1;33m)\u001b[0m\u001b[1;33m\u001b[0m\u001b[1;33m\u001b[0m\u001b[0m\n\u001b[0m\u001b[0;32m    434\u001b[0m             \u001b[0mout\u001b[0m \u001b[1;33m=\u001b[0m \u001b[0mX\u001b[0m\u001b[1;33m,\u001b[0m \u001b[0my\u001b[0m\u001b[1;33m\u001b[0m\u001b[1;33m\u001b[0m\u001b[0m\n\u001b[0;32m    435\u001b[0m \u001b[1;33m\u001b[0m\u001b[0m\n",
      "\u001b[1;32mE:\\Anaconda\\lib\\site-packages\\sklearn\\utils\\validation.py\u001b[0m in \u001b[0;36minner_f\u001b[1;34m(*args, **kwargs)\u001b[0m\n\u001b[0;32m     61\u001b[0m             \u001b[0mextra_args\u001b[0m \u001b[1;33m=\u001b[0m \u001b[0mlen\u001b[0m\u001b[1;33m(\u001b[0m\u001b[0margs\u001b[0m\u001b[1;33m)\u001b[0m \u001b[1;33m-\u001b[0m \u001b[0mlen\u001b[0m\u001b[1;33m(\u001b[0m\u001b[0mall_args\u001b[0m\u001b[1;33m)\u001b[0m\u001b[1;33m\u001b[0m\u001b[1;33m\u001b[0m\u001b[0m\n\u001b[0;32m     62\u001b[0m             \u001b[1;32mif\u001b[0m \u001b[0mextra_args\u001b[0m \u001b[1;33m<=\u001b[0m \u001b[1;36m0\u001b[0m\u001b[1;33m:\u001b[0m\u001b[1;33m\u001b[0m\u001b[1;33m\u001b[0m\u001b[0m\n\u001b[1;32m---> 63\u001b[1;33m                 \u001b[1;32mreturn\u001b[0m \u001b[0mf\u001b[0m\u001b[1;33m(\u001b[0m\u001b[1;33m*\u001b[0m\u001b[0margs\u001b[0m\u001b[1;33m,\u001b[0m \u001b[1;33m**\u001b[0m\u001b[0mkwargs\u001b[0m\u001b[1;33m)\u001b[0m\u001b[1;33m\u001b[0m\u001b[1;33m\u001b[0m\u001b[0m\n\u001b[0m\u001b[0;32m     64\u001b[0m \u001b[1;33m\u001b[0m\u001b[0m\n\u001b[0;32m     65\u001b[0m             \u001b[1;31m# extra_args > 0\u001b[0m\u001b[1;33m\u001b[0m\u001b[1;33m\u001b[0m\u001b[0m\n",
      "\u001b[1;32mE:\\Anaconda\\lib\\site-packages\\sklearn\\utils\\validation.py\u001b[0m in \u001b[0;36mcheck_X_y\u001b[1;34m(X, y, accept_sparse, accept_large_sparse, dtype, order, copy, force_all_finite, ensure_2d, allow_nd, multi_output, ensure_min_samples, ensure_min_features, y_numeric, estimator)\u001b[0m\n\u001b[0;32m    886\u001b[0m         \u001b[0my\u001b[0m \u001b[1;33m=\u001b[0m \u001b[0my\u001b[0m\u001b[1;33m.\u001b[0m\u001b[0mastype\u001b[0m\u001b[1;33m(\u001b[0m\u001b[0mnp\u001b[0m\u001b[1;33m.\u001b[0m\u001b[0mfloat64\u001b[0m\u001b[1;33m)\u001b[0m\u001b[1;33m\u001b[0m\u001b[1;33m\u001b[0m\u001b[0m\n\u001b[0;32m    887\u001b[0m \u001b[1;33m\u001b[0m\u001b[0m\n\u001b[1;32m--> 888\u001b[1;33m     \u001b[0mcheck_consistent_length\u001b[0m\u001b[1;33m(\u001b[0m\u001b[0mX\u001b[0m\u001b[1;33m,\u001b[0m \u001b[0my\u001b[0m\u001b[1;33m)\u001b[0m\u001b[1;33m\u001b[0m\u001b[1;33m\u001b[0m\u001b[0m\n\u001b[0m\u001b[0;32m    889\u001b[0m \u001b[1;33m\u001b[0m\u001b[0m\n\u001b[0;32m    890\u001b[0m     \u001b[1;32mreturn\u001b[0m \u001b[0mX\u001b[0m\u001b[1;33m,\u001b[0m \u001b[0my\u001b[0m\u001b[1;33m\u001b[0m\u001b[1;33m\u001b[0m\u001b[0m\n",
      "\u001b[1;32mE:\\Anaconda\\lib\\site-packages\\sklearn\\utils\\validation.py\u001b[0m in \u001b[0;36mcheck_consistent_length\u001b[1;34m(*arrays)\u001b[0m\n\u001b[0;32m    317\u001b[0m     \u001b[0muniques\u001b[0m \u001b[1;33m=\u001b[0m \u001b[0mnp\u001b[0m\u001b[1;33m.\u001b[0m\u001b[0munique\u001b[0m\u001b[1;33m(\u001b[0m\u001b[0mlengths\u001b[0m\u001b[1;33m)\u001b[0m\u001b[1;33m\u001b[0m\u001b[1;33m\u001b[0m\u001b[0m\n\u001b[0;32m    318\u001b[0m     \u001b[1;32mif\u001b[0m \u001b[0mlen\u001b[0m\u001b[1;33m(\u001b[0m\u001b[0muniques\u001b[0m\u001b[1;33m)\u001b[0m \u001b[1;33m>\u001b[0m \u001b[1;36m1\u001b[0m\u001b[1;33m:\u001b[0m\u001b[1;33m\u001b[0m\u001b[1;33m\u001b[0m\u001b[0m\n\u001b[1;32m--> 319\u001b[1;33m         raise ValueError(\"Found input variables with inconsistent numbers of\"\n\u001b[0m\u001b[0;32m    320\u001b[0m                          \" samples: %r\" % [int(l) for l in lengths])\n\u001b[0;32m    321\u001b[0m \u001b[1;33m\u001b[0m\u001b[0m\n",
      "\u001b[1;31mValueError\u001b[0m: Found input variables with inconsistent numbers of samples: [6, 4]"
     ]
    }
   ],
   "source": [
    "linear_dist()"
   ]
  },
  {
   "cell_type": "code",
   "execution_count": null,
   "id": "1855979a",
   "metadata": {},
   "outputs": [],
   "source": []
  }
 ],
 "metadata": {
  "kernelspec": {
   "display_name": "Python 3 (ipykernel)",
   "language": "python",
   "name": "python3"
  },
  "language_info": {
   "codemirror_mode": {
    "name": "ipython",
    "version": 3
   },
   "file_extension": ".py",
   "mimetype": "text/x-python",
   "name": "python",
   "nbconvert_exporter": "python",
   "pygments_lexer": "ipython3",
   "version": "3.9.7"
  }
 },
 "nbformat": 4,
 "nbformat_minor": 5
}
