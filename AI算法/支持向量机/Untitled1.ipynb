{
 "cells": [
  {
   "cell_type": "code",
   "execution_count": 4,
   "id": "af706eef",
   "metadata": {},
   "outputs": [],
   "source": [
    "import numpy as np\n",
    "import pandas as pd"
   ]
  },
  {
   "cell_type": "code",
   "execution_count": 5,
   "id": "a3b6732d",
   "metadata": {},
   "outputs": [],
   "source": [
    "df = pd.read_excel('./data.xlsx')"
   ]
  },
  {
   "cell_type": "code",
   "execution_count": 6,
   "id": "61f900cd",
   "metadata": {},
   "outputs": [
    {
     "data": {
      "text/plain": [
       "array([[-3. ],\n",
       "       [ 0.5],\n",
       "       [ 2.9],\n",
       "       [-0.1],\n",
       "       [-4. ],\n",
       "       [-1.3],\n",
       "       [-3.4],\n",
       "       [-4.1],\n",
       "       [-5.1],\n",
       "       [ 1.9]])"
      ]
     },
     "execution_count": 6,
     "metadata": {},
     "output_type": "execute_result"
    }
   ],
   "source": [
    "df[['X3-1']].values"
   ]
  },
  {
   "cell_type": "code",
   "execution_count": 7,
   "id": "cf99e9b5",
   "metadata": {},
   "outputs": [
    {
     "data": {
      "text/plain": [
       "array([[-2. ],\n",
       "       [-8.9],\n",
       "       [-4.2],\n",
       "       [-8.5],\n",
       "       [-6.7],\n",
       "       [-0.5],\n",
       "       [-5.3],\n",
       "       [-8.7],\n",
       "       [-7.1],\n",
       "       [-8. ]])"
      ]
     },
     "execution_count": 7,
     "metadata": {},
     "output_type": "execute_result"
    }
   ],
   "source": [
    "df[['X4-1']].values"
   ]
  },
  {
   "cell_type": "code",
   "execution_count": null,
   "id": "778900fb",
   "metadata": {},
   "outputs": [],
   "source": []
  }
 ],
 "metadata": {
  "kernelspec": {
   "display_name": "Python 3 (ipykernel)",
   "language": "python",
   "name": "python3"
  },
  "language_info": {
   "codemirror_mode": {
    "name": "ipython",
    "version": 3
   },
   "file_extension": ".py",
   "mimetype": "text/x-python",
   "name": "python",
   "nbconvert_exporter": "python",
   "pygments_lexer": "ipython3",
   "version": "3.9.7"
  }
 },
 "nbformat": 4,
 "nbformat_minor": 5
}
