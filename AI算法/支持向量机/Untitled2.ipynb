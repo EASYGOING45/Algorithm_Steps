{
 "cells": [
  {
   "cell_type": "code",
   "execution_count": 1,
   "id": "b07fc568",
   "metadata": {},
   "outputs": [],
   "source": [
    "from sklearn.svm import SVC\n",
    "import numpy as np\n",
    "import matplotlib.pyplot as plt\n",
    "import pandas as pd"
   ]
  },
  {
   "cell_type": "code",
   "execution_count": 3,
   "id": "1b3cd94d",
   "metadata": {},
   "outputs": [],
   "source": [
    "def ReadData():\n",
    "    # 读取数据\n",
    "    temp = pd.read_excel(\"lab3data.xlsx\")   # 通过pandas中的read_excel方法读取xlsx表格文件\n",
    "    print(\"数据读取如下形式：\")\n",
    "    print(temp)\n",
    "    return temp"
   ]
  },
  {
   "cell_type": "code",
   "execution_count": 4,
   "id": "c94987f7",
   "metadata": {},
   "outputs": [],
   "source": [
    "def DataProcess(data_pre):\n",
    "    # 数据处理 返回各个类别的样本点的数据\n",
    "    data_3=data_pre[data_pre['class']==3]  #筛选对应类别为3的样本数据\n",
    "    data_4=data_pre[data_pre['class']==4]  #筛选对应类别为4的样本数据\n",
    "    x31=data_3['dim1'].values    # class=3 x1\n",
    "    x32=data_3['dim2'].values    # class=3 x2\n",
    "    x41=data_4['dim1'].values    # class=4 x1\n",
    "    x42=data_4['dim2'].values    # class=4 x2\n",
    "    return data_3x31,x32,x41,x42"
   ]
  },
  {
   "cell_type": "code",
   "execution_count": 5,
   "id": "1980440d",
   "metadata": {},
   "outputs": [],
   "source": [
    "def HighDimMapping(x1, x2):\n",
    "    # 将数据向高维映射\n",
    "    data_ret = []\n",
    "    # 10个样本点\n",
    "    for i in range(10):\n",
    "        temparr = []\n",
    "        temparr.append(1.0)\n",
    "        temparr.append(x1[i])\n",
    "        temparr.append(x2[i])\n",
    "        temparr.append(x1[i]**2)\n",
    "        temparr.append(x1[i]* x2[i])\n",
    "        temparr.append(x2[i]**2)\n",
    "        data_ret.append(temparr)\n",
    "    return np.array(data_ret)"
   ]
  },
  {
   "cell_type": "code",
   "execution_count": 7,
   "id": "ab35773e",
   "metadata": {},
   "outputs": [
    {
     "name": "stdout",
     "output_type": "stream",
     "text": [
      "数据读取如下形式：\n",
      "    dim1  dim2  class\n",
      "0   -3.0  -2.9      3\n",
      "1    0.5   8.7      3\n",
      "2    2.9   2.1      3\n",
      "3   -0.1   5.2      3\n",
      "4   -4.0   2.2      3\n",
      "5   -1.3   3.7      3\n",
      "6   -3.4   6.2      3\n",
      "7   -4.1   3.4      3\n",
      "8   -5.1   1.6      3\n",
      "9    1.9   5.1      3\n",
      "10  -2.0  -8.4      4\n",
      "11  -8.9   0.2      4\n",
      "12  -4.2  -7.7      4\n",
      "13  -8.5  -3.2      4\n",
      "14  -6.7  -4.0      4\n",
      "15  -0.5  -9.2      4\n",
      "16  -5.3  -6.7      4\n",
      "17  -8.7  -6.4      4\n",
      "18  -7.1  -9.7      4\n",
      "19  -8.0  -6.3      4\n"
     ]
    }
   ],
   "source": [
    "data = ReadData()"
   ]
  },
  {
   "cell_type": "code",
   "execution_count": 8,
   "id": "a5ad8694",
   "metadata": {},
   "outputs": [],
   "source": [
    "x31,x32,x41,x42 = DataProcess(data)  # 数据筛选清洗"
   ]
  },
  {
   "cell_type": "code",
   "execution_count": 9,
   "id": "561676b1",
   "metadata": {},
   "outputs": [],
   "source": [
    "feature3 = HighDimMapping(x31,x32)\n",
    "feature4 = HighDimMapping(x41,x42)\n",
    "feature = np.concatenate((feature3,feature4),axis=0)"
   ]
  },
  {
   "cell_type": "code",
   "execution_count": 10,
   "id": "93f2f8b9",
   "metadata": {},
   "outputs": [],
   "source": [
    "clf = SVC(C=0.3,kernel='linear')   # 调用SKlearn中的支持向量机分类器\n",
    "labels = np.array([3]*10 + [4]*10)  # 规格化标签"
   ]
  },
  {
   "cell_type": "code",
   "execution_count": 11,
   "id": "a7120420",
   "metadata": {},
   "outputs": [
    {
     "data": {
      "text/plain": [
       "SVC(C=0.3, kernel='linear')"
      ]
     },
     "execution_count": 11,
     "metadata": {},
     "output_type": "execute_result"
    }
   ],
   "source": [
    "clf.fit(feature,labels)"
   ]
  },
  {
   "cell_type": "code",
   "execution_count": 12,
   "id": "ed984114",
   "metadata": {},
   "outputs": [
    {
     "name": "stdout",
     "output_type": "stream",
     "text": [
      "---- 支持向量的索引值 ----\n",
      "[ 0  1 10 11 15]\n",
      "---- 支持向量 ----\n",
      "[[ 1.000e+00 -3.000e+00 -2.900e+00  9.000e+00  8.700e+00  8.410e+00]\n",
      " [ 1.000e+00  5.000e-01  8.700e+00  2.500e-01  4.350e+00  7.569e+01]\n",
      " [ 1.000e+00 -2.000e+00 -8.400e+00  4.000e+00  1.680e+01  7.056e+01]\n",
      " [ 1.000e+00 -8.900e+00  2.000e-01  7.921e+01 -1.780e+00  4.000e-02]\n",
      " [ 1.000e+00 -5.000e-01 -9.200e+00  2.500e-01  4.600e+00  8.464e+01]]\n",
      "----- 决策函数decision function特征系数参数 -----\n",
      "[[-1.30104261e-18 -1.11120406e-02 -9.88635351e-02  3.78999287e-02\n",
      "   2.10449994e-02  2.39074147e-02]]\n",
      "----- 决策函数常量参数（截距） ----\n",
      "[-2.04490349]\n",
      "---- 支持向量数 ----\n",
      "[2 3]\n"
     ]
    }
   ],
   "source": [
    "print(\"---- 支持向量的索引值 ----\")\n",
    "print(clf.support_)\n",
    "print('---- 支持向量 ----')\n",
    "print(clf.support_vectors_)\n",
    "print('----- 决策函数decision function特征系数参数 -----')\n",
    "print(clf.coef_)\n",
    "print('----- 决策函数常量参数（截距） ----')\n",
    "print(clf.intercept_)\n",
    "print('---- 支持向量数 ----')\n",
    "print(clf.n_support_)"
   ]
  },
  {
   "cell_type": "code",
   "execution_count": 13,
   "id": "ba0a29af",
   "metadata": {},
   "outputs": [],
   "source": [
    "x = np.array([0, 10])\n",
    "y = -1/clf.coef_[0,1] * (clf.coef_[0,0] * x + clf.intercept_)"
   ]
  },
  {
   "cell_type": "code",
   "execution_count": 14,
   "id": "4f958aa1",
   "metadata": {},
   "outputs": [
    {
     "ename": "NameError",
     "evalue": "name 'data_3' is not defined",
     "output_type": "error",
     "traceback": [
      "\u001b[1;31m---------------------------------------------------------------------------\u001b[0m",
      "\u001b[1;31mNameError\u001b[0m                                 Traceback (most recent call last)",
      "\u001b[1;32mC:\\Users\\ADMINI~1\\AppData\\Local\\Temp/ipykernel_12812/3599664775.py\u001b[0m in \u001b[0;36m<module>\u001b[1;34m\u001b[0m\n\u001b[1;32m----> 1\u001b[1;33m \u001b[0mplt\u001b[0m\u001b[1;33m.\u001b[0m\u001b[0mscatter\u001b[0m\u001b[1;33m(\u001b[0m\u001b[0mdata_3\u001b[0m\u001b[1;33m[\u001b[0m\u001b[1;34m'dim1'\u001b[0m\u001b[1;33m]\u001b[0m\u001b[1;33m,\u001b[0m \u001b[0mdata_3\u001b[0m\u001b[1;33m[\u001b[0m\u001b[1;34m'dim2'\u001b[0m\u001b[1;33m]\u001b[0m\u001b[1;33m,\u001b[0m \u001b[0mc\u001b[0m\u001b[1;33m=\u001b[0m\u001b[1;34m'red'\u001b[0m\u001b[1;33m)\u001b[0m\u001b[1;33m\u001b[0m\u001b[1;33m\u001b[0m\u001b[0m\n\u001b[0m\u001b[0;32m      2\u001b[0m \u001b[0mplt\u001b[0m\u001b[1;33m.\u001b[0m\u001b[0mscatter\u001b[0m\u001b[1;33m(\u001b[0m\u001b[0mdata_4\u001b[0m\u001b[1;33m[\u001b[0m\u001b[1;34m'dim1'\u001b[0m\u001b[1;33m]\u001b[0m\u001b[1;33m,\u001b[0m \u001b[0mdata_4\u001b[0m\u001b[1;33m[\u001b[0m\u001b[1;34m'dim2'\u001b[0m\u001b[1;33m]\u001b[0m\u001b[1;33m,\u001b[0m \u001b[0mc\u001b[0m\u001b[1;33m=\u001b[0m\u001b[1;34m'blue'\u001b[0m\u001b[1;33m)\u001b[0m\u001b[1;33m\u001b[0m\u001b[1;33m\u001b[0m\u001b[0m\n\u001b[0;32m      3\u001b[0m \u001b[0mplt\u001b[0m\u001b[1;33m.\u001b[0m\u001b[0mplot\u001b[0m\u001b[1;33m(\u001b[0m\u001b[0mx\u001b[0m\u001b[1;33m,\u001b[0m\u001b[0my\u001b[0m\u001b[1;33m)\u001b[0m\u001b[1;33m\u001b[0m\u001b[1;33m\u001b[0m\u001b[0m\n\u001b[0;32m      4\u001b[0m \u001b[0mplt\u001b[0m\u001b[1;33m.\u001b[0m\u001b[0mshow\u001b[0m\u001b[1;33m(\u001b[0m\u001b[1;33m)\u001b[0m\u001b[1;33m\u001b[0m\u001b[1;33m\u001b[0m\u001b[0m\n",
      "\u001b[1;31mNameError\u001b[0m: name 'data_3' is not defined"
     ]
    }
   ],
   "source": [
    "plt.scatter(data_3['dim1'], data_3['dim2'], c='red')\n",
    "plt.scatter(data_4['dim1'], data_4['dim2'], c='blue')\n",
    "plt.plot(x,y)\n",
    "plt.show()"
   ]
  },
  {
   "cell_type": "code",
   "execution_count": null,
   "id": "f1d4e833",
   "metadata": {},
   "outputs": [],
   "source": []
  }
 ],
 "metadata": {
  "kernelspec": {
   "display_name": "Python 3 (ipykernel)",
   "language": "python",
   "name": "python3"
  },
  "language_info": {
   "codemirror_mode": {
    "name": "ipython",
    "version": 3
   },
   "file_extension": ".py",
   "mimetype": "text/x-python",
   "name": "python",
   "nbconvert_exporter": "python",
   "pygments_lexer": "ipython3",
   "version": "3.9.7"
  }
 },
 "nbformat": 4,
 "nbformat_minor": 5
}
